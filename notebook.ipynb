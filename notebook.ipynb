{
 "metadata": {
  "language_info": {
   "codemirror_mode": {
    "name": "ipython",
    "version": 3
   },
   "file_extension": ".py",
   "mimetype": "text/x-python",
   "name": "python",
   "nbconvert_exporter": "python",
   "pygments_lexer": "ipython3",
   "version": "3.9.1-final"
  },
  "orig_nbformat": 2,
  "kernelspec": {
   "name": "python3",
   "display_name": "Python 3",
   "language": "python"
  }
 },
 "nbformat": 4,
 "nbformat_minor": 2,
 "cells": [
  {
   "source": [
    "# Начало\n",
    "\n",
    "Ссылка на 1 урок: https://live.skillbox.ru/webinars/code/pishem-model-mashinnogo-obucheniya-na-python110121/?utm_source=vk&utm_medium=messages&utm_campaign=all_all_vk_messages_invite_intensive-179-2021-01_all_code_skillbox&utm_content=2021-01-11&utm_term=intensive&ss_sub=5ff6d714f20fba5fd87ecf6e\n",
    "\n",
    "Ссылка на файл: https://drive.google.com/file/d/18Hyh1l9H3bR556W1tO2vKwpfAqZPueEp/view"
   ],
   "cell_type": "markdown",
   "metadata": {}
  },
  {
   "source": [],
   "cell_type": "code",
   "metadata": {},
   "execution_count": null,
   "outputs": []
  }
 ]
}