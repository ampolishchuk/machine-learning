{
 "metadata": {
  "language_info": {
   "codemirror_mode": {
    "name": "ipython",
    "version": 3
   },
   "file_extension": ".py",
   "mimetype": "text/x-python",
   "name": "python",
   "nbconvert_exporter": "python",
   "pygments_lexer": "ipython3",
   "version": "3.9.1-final"
  },
  "orig_nbformat": 2,
  "kernelspec": {
   "name": "python3",
   "display_name": "Python 3",
   "language": "python"
  }
 },
 "nbformat": 4,
 "nbformat_minor": 2,
 "cells": [
  {
   "source": [
    "# Начало\n",
    "\n",
    "Ссылка на 1 урок: https://live.skillbox.ru/webinars/code/pishem-model-mashinnogo-obucheniya-na-python110121/?utm_source=vk&utm_medium=messages&utm_campaign=all_all_vk_messages_invite_intensive-179-2021-01_all_code_skillbox&utm_content=2021-01-11&utm_term=intensive&ss_sub=5ff6d714f20fba5fd87ecf6e\n",
    "\n",
    "Ссылка на файл: https://drive.google.com/file/d/18Hyh1l9H3bR556W1tO2vKwpfAqZPueEp/view"
   ],
   "cell_type": "markdown",
   "metadata": {}
  },
  {
   "source": [
    "import pandas\n",
    "\n",
    "data = pandas.read_excel('./trips_data.xlsx')\n",
    "\n",
    "data"
   ],
   "cell_type": "code",
   "metadata": {},
   "execution_count": 7,
   "outputs": [
    {
     "output_type": "execute_result",
     "data": {
      "text/plain": [
       "     Unnamed: 0  salary          city  age vacation_preference  \\\n",
       "0             0  196000     Краснодар   25             Шоппинг   \n",
       "1             1  152000  Екатеринбург   60         Архитектура   \n",
       "2             2   83000         Томск   49         Архитектура   \n",
       "3             3  161000     Краснодар   41             Шоппинг   \n",
       "4             4  146000     Краснодар   58         Архитектура   \n",
       "..          ...     ...           ...  ...                 ...   \n",
       "995         995   81000     Краснодар   55       Пляжный отдых   \n",
       "996         996   96000     Краснодар   32         Архитектура   \n",
       "997         997   56000     Краснодар   68         Архитектура   \n",
       "998         998  162000     Краснодар   69         Архитектура   \n",
       "999         999  171000     Краснодар   35         Архитектура   \n",
       "\n",
       "    transport_preference  family_members    target  \n",
       "0             Автомобиль               1  New York  \n",
       "1                Самолет               1    London  \n",
       "2             Автомобиль               2    Sydney  \n",
       "3             Автомобиль               0  New York  \n",
       "4                Самолет               1    Sydney  \n",
       "..                   ...             ...       ...  \n",
       "995    Морской транспорт               2     Paris  \n",
       "996                Поезд               1     Paris  \n",
       "997              Самолет               2     Paris  \n",
       "998              Самолет               0    Sydney  \n",
       "999           Автомобиль               1  New York  \n",
       "\n",
       "[1000 rows x 8 columns]"
      ],
      "text/html": "<div>\n<style scoped>\n    .dataframe tbody tr th:only-of-type {\n        vertical-align: middle;\n    }\n\n    .dataframe tbody tr th {\n        vertical-align: top;\n    }\n\n    .dataframe thead th {\n        text-align: right;\n    }\n</style>\n<table border=\"1\" class=\"dataframe\">\n  <thead>\n    <tr style=\"text-align: right;\">\n      <th></th>\n      <th>Unnamed: 0</th>\n      <th>salary</th>\n      <th>city</th>\n      <th>age</th>\n      <th>vacation_preference</th>\n      <th>transport_preference</th>\n      <th>family_members</th>\n      <th>target</th>\n    </tr>\n  </thead>\n  <tbody>\n    <tr>\n      <th>0</th>\n      <td>0</td>\n      <td>196000</td>\n      <td>Краснодар</td>\n      <td>25</td>\n      <td>Шоппинг</td>\n      <td>Автомобиль</td>\n      <td>1</td>\n      <td>New York</td>\n    </tr>\n    <tr>\n      <th>1</th>\n      <td>1</td>\n      <td>152000</td>\n      <td>Екатеринбург</td>\n      <td>60</td>\n      <td>Архитектура</td>\n      <td>Самолет</td>\n      <td>1</td>\n      <td>London</td>\n    </tr>\n    <tr>\n      <th>2</th>\n      <td>2</td>\n      <td>83000</td>\n      <td>Томск</td>\n      <td>49</td>\n      <td>Архитектура</td>\n      <td>Автомобиль</td>\n      <td>2</td>\n      <td>Sydney</td>\n    </tr>\n    <tr>\n      <th>3</th>\n      <td>3</td>\n      <td>161000</td>\n      <td>Краснодар</td>\n      <td>41</td>\n      <td>Шоппинг</td>\n      <td>Автомобиль</td>\n      <td>0</td>\n      <td>New York</td>\n    </tr>\n    <tr>\n      <th>4</th>\n      <td>4</td>\n      <td>146000</td>\n      <td>Краснодар</td>\n      <td>58</td>\n      <td>Архитектура</td>\n      <td>Самолет</td>\n      <td>1</td>\n      <td>Sydney</td>\n    </tr>\n    <tr>\n      <th>...</th>\n      <td>...</td>\n      <td>...</td>\n      <td>...</td>\n      <td>...</td>\n      <td>...</td>\n      <td>...</td>\n      <td>...</td>\n      <td>...</td>\n    </tr>\n    <tr>\n      <th>995</th>\n      <td>995</td>\n      <td>81000</td>\n      <td>Краснодар</td>\n      <td>55</td>\n      <td>Пляжный отдых</td>\n      <td>Морской транспорт</td>\n      <td>2</td>\n      <td>Paris</td>\n    </tr>\n    <tr>\n      <th>996</th>\n      <td>996</td>\n      <td>96000</td>\n      <td>Краснодар</td>\n      <td>32</td>\n      <td>Архитектура</td>\n      <td>Поезд</td>\n      <td>1</td>\n      <td>Paris</td>\n    </tr>\n    <tr>\n      <th>997</th>\n      <td>997</td>\n      <td>56000</td>\n      <td>Краснодар</td>\n      <td>68</td>\n      <td>Архитектура</td>\n      <td>Самолет</td>\n      <td>2</td>\n      <td>Paris</td>\n    </tr>\n    <tr>\n      <th>998</th>\n      <td>998</td>\n      <td>162000</td>\n      <td>Краснодар</td>\n      <td>69</td>\n      <td>Архитектура</td>\n      <td>Самолет</td>\n      <td>0</td>\n      <td>Sydney</td>\n    </tr>\n    <tr>\n      <th>999</th>\n      <td>999</td>\n      <td>171000</td>\n      <td>Краснодар</td>\n      <td>35</td>\n      <td>Архитектура</td>\n      <td>Автомобиль</td>\n      <td>1</td>\n      <td>New York</td>\n    </tr>\n  </tbody>\n</table>\n<p>1000 rows × 8 columns</p>\n</div>"
     },
     "metadata": {},
     "execution_count": 7
    }
   ]
  },
  {
   "cell_type": "code",
   "execution_count": null,
   "metadata": {},
   "outputs": [],
   "source": []
  }
 ]
}